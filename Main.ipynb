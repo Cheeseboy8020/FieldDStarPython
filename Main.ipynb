{
 "cells": [
  {
   "cell_type": "code",
   "execution_count": 79,
   "metadata": {
    "collapsed": true,
    "pycharm": {
     "name": "#%%\n"
    }
   },
   "outputs": [
    {
     "name": "stdout",
     "output_type": "stream",
     "text": [
      "[0. 0. 0. ... 0. 0. 0.]\n"
     ]
    }
   ],
   "source": [
    "from scipy.interpolate import RegularGridInterpolator\n",
    "from math import sqrt\n",
    "import numpy as np\n",
    "from numpy import minimum\n",
    "grid_size = 100\n",
    "cell_costs = np.random.choice([0, np.inf], size=np.square(100), p=[.9, .1])\n",
    "print(cell_costs)\n",
    "def construct_interpolation_table(n_c = 2, m_c = 1):\n",
    "    x_array = np.array([])\n",
    "    y_array = np.array([])\n",
    "    c_index = 0\n",
    "    while c_index < n_c:\n",
    "        c = cell_costs[c_index]\n",
    "        b_index = 0\n",
    "        while b_index < n_c:\n",
    "            b = cell_costs[b_index]\n",
    "            f = 1\n",
    "            while f <= m_c:\n",
    "                if f < b:\n",
    "                    if c <= f:\n",
    "                        x_array = np.append(x_array, [c_index, b_index, f])\n",
    "                        y_array = np.append(y_array, c*sqrt(2))\n",
    "                    else:\n",
    "                        y = minimum(f/sqrt(c*c-f*f), 1)\n",
    "                        x_array = np.append(x_array, [c_index, b_index, f])\n",
    "                        y_array = np.append(y_array, c*sqrt(1+pow(y,2))+f*(1-y))\n",
    "                else:\n",
    "                    if c <= b:\n",
    "                        x_array = np.append(x_array, [c_index, b_index, f])\n",
    "                        y_array = np.append(y_array,c+sqrt(2))\n",
    "                    else:\n",
    "                        x = 1 - minimum(b/sqrt(pow(c,2)-pow(b,2)), 1)\n",
    "                        x_array = np.append(x_array, [c_index, b_index, f])\n",
    "                        y_array = np.append(y_array,c*sqrt(1+pow(1-x, 2))+b*x)\n",
    "                f+=1\n",
    "            b+=1\n",
    "        print(\"One C Cycle complete\")\n",
    "        c+=1\n",
    "    print(\"Reshaping Array\")\n",
    "    x_array = x_array.reshape((pow(2, 2)*1,3))\n",
    "    print(x_array)\n",
    "    print(y_array)"
   ]
  },
  {
   "cell_type": "code",
   "execution_count": null,
   "outputs": [],
   "source": [
    "construct_interpolation_table()"
   ],
   "metadata": {
    "collapsed": false,
    "pycharm": {
     "name": "#%%\n",
     "is_executing": true
    }
   }
  },
  {
   "cell_type": "code",
   "execution_count": null,
   "outputs": [],
   "source": [],
   "metadata": {
    "collapsed": false,
    "pycharm": {
     "name": "#%%\n"
    }
   }
  }
 ],
 "metadata": {
  "kernelspec": {
   "display_name": "Python 3",
   "language": "python",
   "name": "python3"
  },
  "language_info": {
   "codemirror_mode": {
    "name": "ipython",
    "version": 2
   },
   "file_extension": ".py",
   "mimetype": "text/x-python",
   "name": "python",
   "nbconvert_exporter": "python",
   "pygments_lexer": "ipython2",
   "version": "2.7.6"
  }
 },
 "nbformat": 4,
 "nbformat_minor": 0
}